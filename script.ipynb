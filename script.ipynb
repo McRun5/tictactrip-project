{
 "cells": [
  {
   "cell_type": "code",
   "execution_count": 1,
   "metadata": {
    "scrolled": true
   },
   "outputs": [],
   "source": [
    "import pandas as pd \n",
    "import datetime\n",
    "import os"
   ]
  },
  {
   "cell_type": "code",
   "execution_count": 2,
   "metadata": {},
   "outputs": [],
   "source": [
    "cities = pd.read_csv('data/cities.csv')\n",
    "providers = pd.read_csv('data/providers.csv')\n",
    "stations = pd.read_csv('data/stations.csv')\n",
    "tickets = pd.read_csv('data/ticket_data.csv')"
   ]
  },
  {
   "cell_type": "markdown",
   "metadata": {},
   "source": [
    "# Clean Data"
   ]
  },
  {
   "cell_type": "markdown",
   "metadata": {},
   "source": [
    "## Drop NaN rows"
   ]
  },
  {
   "cell_type": "code",
   "execution_count": 3,
   "metadata": {},
   "outputs": [],
   "source": [
    "cities = cities.dropna(how=\"all\")\n",
    "providers = providers.dropna(how=\"all\")\n",
    "stations = stations.dropna(how=\"all\")\n",
    "tickets = tickets.dropna(how=\"all\")"
   ]
  },
  {
   "cell_type": "markdown",
   "metadata": {},
   "source": [
    "# Extraire des infos intéressantes"
   ]
  },
  {
   "cell_type": "markdown",
   "metadata": {},
   "source": [
    "## Prix min, moyen et max"
   ]
  },
  {
   "cell_type": "code",
   "execution_count": 4,
   "metadata": {
    "scrolled": true
   },
   "outputs": [
    {
     "name": "stdout",
     "output_type": "stream",
     "text": [
      "300.0, 4382.711061374178, 38550.0\n"
     ]
    }
   ],
   "source": [
    "min = tickets.describe().price_in_cents[\"min\"]\n",
    "moy = tickets.describe().price_in_cents[\"mean\"]\n",
    "max = tickets.describe().price_in_cents[\"max\"]\n",
    "\n",
    "print(min , moy, max, sep=\", \")"
   ]
  },
  {
   "cell_type": "markdown",
   "metadata": {},
   "source": [
    "## Durée min/max/moyenne par trajet"
   ]
  },
  {
   "cell_type": "markdown",
   "metadata": {},
   "source": [
    "### calcule de duree"
   ]
  },
  {
   "cell_type": "code",
   "execution_count": 5,
   "metadata": {},
   "outputs": [],
   "source": [
    "arrive = [datetime.datetime.strptime(date, '%Y-%m-%d %H:%M:%S+%f') for date in tickets['arrival_ts']]\n",
    "depart = [datetime.datetime.strptime(date, '%Y-%m-%d %H:%M:%S+%f') for date in tickets['departure_ts']]"
   ]
  },
  {
   "cell_type": "code",
   "execution_count": 6,
   "metadata": {},
   "outputs": [],
   "source": [
    "arrive = pd.DataFrame(arrive)\n",
    "depart = pd.DataFrame(depart)"
   ]
  },
  {
   "cell_type": "code",
   "execution_count": 7,
   "metadata": {},
   "outputs": [],
   "source": [
    "tickets['duree'] = 1;"
   ]
  },
  {
   "cell_type": "code",
   "execution_count": 8,
   "metadata": {},
   "outputs": [],
   "source": [
    "tickets['duree'] = arrive - depart"
   ]
  },
  {
   "cell_type": "markdown",
   "metadata": {},
   "source": [
    "### Durée max par trajet"
   ]
  },
  {
   "cell_type": "code",
   "execution_count": 9,
   "metadata": {},
   "outputs": [],
   "source": [
    "tickets_max = tickets.groupby(['o_station','d_station']).max()\n",
    "#tickets_max.head()"
   ]
  },
  {
   "cell_type": "markdown",
   "metadata": {},
   "source": [
    "### Durée min par trajet"
   ]
  },
  {
   "cell_type": "code",
   "execution_count": 10,
   "metadata": {},
   "outputs": [
    {
     "data": {
      "text/html": [
       "<div>\n",
       "<style scoped>\n",
       "    .dataframe tbody tr th:only-of-type {\n",
       "        vertical-align: middle;\n",
       "    }\n",
       "\n",
       "    .dataframe tbody tr th {\n",
       "        vertical-align: top;\n",
       "    }\n",
       "\n",
       "    .dataframe thead th {\n",
       "        text-align: right;\n",
       "    }\n",
       "</style>\n",
       "<table border=\"1\" class=\"dataframe\">\n",
       "  <thead>\n",
       "    <tr style=\"text-align: right;\">\n",
       "      <th></th>\n",
       "      <th></th>\n",
       "      <th>id</th>\n",
       "      <th>company</th>\n",
       "      <th>departure_ts</th>\n",
       "      <th>arrival_ts</th>\n",
       "      <th>price_in_cents</th>\n",
       "      <th>search_ts</th>\n",
       "      <th>middle_stations</th>\n",
       "      <th>other_companies</th>\n",
       "      <th>o_city</th>\n",
       "      <th>d_city</th>\n",
       "      <th>duree</th>\n",
       "    </tr>\n",
       "    <tr>\n",
       "      <th>o_station</th>\n",
       "      <th>d_station</th>\n",
       "      <th></th>\n",
       "      <th></th>\n",
       "      <th></th>\n",
       "      <th></th>\n",
       "      <th></th>\n",
       "      <th></th>\n",
       "      <th></th>\n",
       "      <th></th>\n",
       "      <th></th>\n",
       "      <th></th>\n",
       "      <th></th>\n",
       "    </tr>\n",
       "  </thead>\n",
       "  <tbody>\n",
       "    <tr>\n",
       "      <th rowspan=\"5\" valign=\"top\">3.0</th>\n",
       "      <th>39.0</th>\n",
       "      <td>6840169</td>\n",
       "      <td>9</td>\n",
       "      <td>2017-10-19 22:10:00+00</td>\n",
       "      <td>2017-10-20 04:25:00+00</td>\n",
       "      <td>1200</td>\n",
       "      <td>2017-10-12 13:24:39.174+00</td>\n",
       "      <td>{396,396}</td>\n",
       "      <td>{13}</td>\n",
       "      <td>628</td>\n",
       "      <td>37</td>\n",
       "      <td>06:15:00</td>\n",
       "    </tr>\n",
       "    <tr>\n",
       "      <th>61.0</th>\n",
       "      <td>6849450</td>\n",
       "      <td>13</td>\n",
       "      <td>2017-10-29 00:50:00+00</td>\n",
       "      <td>2017-10-29 20:05:00+00</td>\n",
       "      <td>4780</td>\n",
       "      <td>2017-10-15 11:12:21.294+00</td>\n",
       "      <td>{586,586}</td>\n",
       "      <td>{13}</td>\n",
       "      <td>628</td>\n",
       "      <td>173</td>\n",
       "      <td>19:15:00</td>\n",
       "    </tr>\n",
       "    <tr>\n",
       "      <th>123.0</th>\n",
       "      <td>6862926</td>\n",
       "      <td>13</td>\n",
       "      <td>2017-10-19 22:10:00+00</td>\n",
       "      <td>2017-10-20 20:40:00+00</td>\n",
       "      <td>3600</td>\n",
       "      <td>2017-10-18 12:05:00.173+00</td>\n",
       "      <td>{554,554}</td>\n",
       "      <td>{13}</td>\n",
       "      <td>628</td>\n",
       "      <td>144</td>\n",
       "      <td>22:30:00</td>\n",
       "    </tr>\n",
       "    <tr>\n",
       "      <th>132.0</th>\n",
       "      <td>6854165</td>\n",
       "      <td>13</td>\n",
       "      <td>2017-10-20 04:15:00+00</td>\n",
       "      <td>2017-10-20 09:15:00+00</td>\n",
       "      <td>1890</td>\n",
       "      <td>2017-10-16 13:50:39.79+00</td>\n",
       "      <td>{10894,10894}</td>\n",
       "      <td>{13}</td>\n",
       "      <td>628</td>\n",
       "      <td>158</td>\n",
       "      <td>05:00:00</td>\n",
       "    </tr>\n",
       "    <tr>\n",
       "      <th>189.0</th>\n",
       "      <td>6854587</td>\n",
       "      <td>13</td>\n",
       "      <td>2017-10-30 00:50:00+00</td>\n",
       "      <td>2017-10-30 15:25:00+00</td>\n",
       "      <td>3680</td>\n",
       "      <td>2017-10-16 15:36:16.535+00</td>\n",
       "      <td>{586,586}</td>\n",
       "      <td>{13}</td>\n",
       "      <td>628</td>\n",
       "      <td>5118</td>\n",
       "      <td>14:35:00</td>\n",
       "    </tr>\n",
       "  </tbody>\n",
       "</table>\n",
       "</div>"
      ],
      "text/plain": [
       "                          id  company            departure_ts  \\\n",
       "o_station d_station                                             \n",
       "3.0       39.0       6840169        9  2017-10-19 22:10:00+00   \n",
       "          61.0       6849450       13  2017-10-29 00:50:00+00   \n",
       "          123.0      6862926       13  2017-10-19 22:10:00+00   \n",
       "          132.0      6854165       13  2017-10-20 04:15:00+00   \n",
       "          189.0      6854587       13  2017-10-30 00:50:00+00   \n",
       "\n",
       "                                 arrival_ts  price_in_cents  \\\n",
       "o_station d_station                                           \n",
       "3.0       39.0       2017-10-20 04:25:00+00            1200   \n",
       "          61.0       2017-10-29 20:05:00+00            4780   \n",
       "          123.0      2017-10-20 20:40:00+00            3600   \n",
       "          132.0      2017-10-20 09:15:00+00            1890   \n",
       "          189.0      2017-10-30 15:25:00+00            3680   \n",
       "\n",
       "                                      search_ts middle_stations  \\\n",
       "o_station d_station                                               \n",
       "3.0       39.0       2017-10-12 13:24:39.174+00       {396,396}   \n",
       "          61.0       2017-10-15 11:12:21.294+00       {586,586}   \n",
       "          123.0      2017-10-18 12:05:00.173+00       {554,554}   \n",
       "          132.0       2017-10-16 13:50:39.79+00   {10894,10894}   \n",
       "          189.0      2017-10-16 15:36:16.535+00       {586,586}   \n",
       "\n",
       "                    other_companies  o_city  d_city    duree  \n",
       "o_station d_station                                           \n",
       "3.0       39.0                 {13}     628      37 06:15:00  \n",
       "          61.0                 {13}     628     173 19:15:00  \n",
       "          123.0                {13}     628     144 22:30:00  \n",
       "          132.0                {13}     628     158 05:00:00  \n",
       "          189.0                {13}     628    5118 14:35:00  "
      ]
     },
     "execution_count": 10,
     "metadata": {},
     "output_type": "execute_result"
    }
   ],
   "source": [
    "tickets_min = tickets.groupby(['o_station','d_station']).min()\n",
    "tickets_min.head()"
   ]
  },
  {
   "cell_type": "markdown",
   "metadata": {},
   "source": [
    "### Durée moy par trajet"
   ]
  },
  {
   "cell_type": "code",
   "execution_count": 11,
   "metadata": {
    "scrolled": true
   },
   "outputs": [
    {
     "data": {
      "text/html": [
       "<div>\n",
       "<style scoped>\n",
       "    .dataframe tbody tr th:only-of-type {\n",
       "        vertical-align: middle;\n",
       "    }\n",
       "\n",
       "    .dataframe tbody tr th {\n",
       "        vertical-align: top;\n",
       "    }\n",
       "\n",
       "    .dataframe thead th {\n",
       "        text-align: right;\n",
       "    }\n",
       "</style>\n",
       "<table border=\"1\" class=\"dataframe\">\n",
       "  <thead>\n",
       "    <tr style=\"text-align: right;\">\n",
       "      <th></th>\n",
       "      <th></th>\n",
       "      <th></th>\n",
       "      <th>id</th>\n",
       "      <th>company</th>\n",
       "      <th>price_in_cents</th>\n",
       "      <th>o_city</th>\n",
       "      <th>d_city</th>\n",
       "    </tr>\n",
       "    <tr>\n",
       "      <th>o_station</th>\n",
       "      <th>d_station</th>\n",
       "      <th>duree</th>\n",
       "      <th></th>\n",
       "      <th></th>\n",
       "      <th></th>\n",
       "      <th></th>\n",
       "      <th></th>\n",
       "    </tr>\n",
       "  </thead>\n",
       "  <tbody>\n",
       "    <tr>\n",
       "      <th rowspan=\"5\" valign=\"top\">3.0</th>\n",
       "      <th rowspan=\"5\" valign=\"top\">39.0</th>\n",
       "      <th>06:15:00</th>\n",
       "      <td>6844423.0</td>\n",
       "      <td>13.0</td>\n",
       "      <td>3280.0</td>\n",
       "      <td>628.0</td>\n",
       "      <td>37.0</td>\n",
       "    </tr>\n",
       "    <tr>\n",
       "      <th>06:35:00</th>\n",
       "      <td>6840175.0</td>\n",
       "      <td>9.0</td>\n",
       "      <td>1600.0</td>\n",
       "      <td>628.0</td>\n",
       "      <td>37.0</td>\n",
       "    </tr>\n",
       "    <tr>\n",
       "      <th>06:45:00</th>\n",
       "      <td>6840179.0</td>\n",
       "      <td>13.0</td>\n",
       "      <td>1590.0</td>\n",
       "      <td>628.0</td>\n",
       "      <td>37.0</td>\n",
       "    </tr>\n",
       "    <tr>\n",
       "      <th>07:20:00</th>\n",
       "      <td>6840176.0</td>\n",
       "      <td>13.0</td>\n",
       "      <td>1200.0</td>\n",
       "      <td>628.0</td>\n",
       "      <td>37.0</td>\n",
       "    </tr>\n",
       "    <tr>\n",
       "      <th>09:35:00</th>\n",
       "      <td>6840169.0</td>\n",
       "      <td>13.0</td>\n",
       "      <td>2480.0</td>\n",
       "      <td>628.0</td>\n",
       "      <td>37.0</td>\n",
       "    </tr>\n",
       "  </tbody>\n",
       "</table>\n",
       "</div>"
      ],
      "text/plain": [
       "                                     id  company  price_in_cents  o_city  \\\n",
       "o_station d_station duree                                                  \n",
       "3.0       39.0      06:15:00  6844423.0     13.0          3280.0   628.0   \n",
       "                    06:35:00  6840175.0      9.0          1600.0   628.0   \n",
       "                    06:45:00  6840179.0     13.0          1590.0   628.0   \n",
       "                    07:20:00  6840176.0     13.0          1200.0   628.0   \n",
       "                    09:35:00  6840169.0     13.0          2480.0   628.0   \n",
       "\n",
       "                              d_city  \n",
       "o_station d_station duree             \n",
       "3.0       39.0      06:15:00    37.0  \n",
       "                    06:35:00    37.0  \n",
       "                    06:45:00    37.0  \n",
       "                    07:20:00    37.0  \n",
       "                    09:35:00    37.0  "
      ]
     },
     "execution_count": 11,
     "metadata": {},
     "output_type": "execute_result"
    }
   ],
   "source": [
    "tickets_moy = tickets.groupby(['o_station','d_station','duree']).mean()\n",
    "tickets_moy.head()"
   ]
  },
  {
   "cell_type": "markdown",
   "metadata": {},
   "source": [
    "### Enregistré"
   ]
  },
  {
   "cell_type": "code",
   "execution_count": 12,
   "metadata": {
    "scrolled": true
   },
   "outputs": [],
   "source": [
    "# if os.path.isfile('data/modified/tickets_mean.csv') == False :\n",
    "#      tickets_mean.to_csv('data/modified/tickets.csv')"
   ]
  },
  {
   "cell_type": "markdown",
   "metadata": {},
   "source": [
    "## Différence de prix moyen et durée selon le train, le bus et le covoit\n",
    "## selon la distance du trajet (0-200km, 201-800km, 800-2000km, 2000+km)"
   ]
  },
  {
   "cell_type": "markdown",
   "metadata": {},
   "source": [
    "### Standardisation des types\n"
   ]
  },
  {
   "cell_type": "code",
   "execution_count": 14,
   "metadata": {},
   "outputs": [],
   "source": [
    "providers.loc[providers['transport_type'].str.contains('car'), ['transport_type']] = 'carpooling'"
   ]
  },
  {
   "cell_type": "markdown",
   "metadata": {},
   "source": [
    "### inserer les type dans la table tickets"
   ]
  },
  {
   "cell_type": "code",
   "execution_count": 15,
   "metadata": {},
   "outputs": [],
   "source": [
    "tickets['type'] = 1"
   ]
  },
  {
   "cell_type": "code",
   "execution_count": 16,
   "metadata": {},
   "outputs": [],
   "source": [
    "## return transport_type apartir du company id\n",
    "# providers[providers['id'] == row['company']]['transport_type'].unique()\n",
    "\n",
    "types = pd.DataFrame()\n",
    "#take a lot of time\n",
    "for index, row in tickets.iterrows():\n",
    "    value = providers[providers['id'] == row['company']]['transport_type'].unique()[0]\n",
    "    types = types.append({'type': [value]}, ignore_index=True)\n",
    "    "
   ]
  },
  {
   "cell_type": "code",
   "execution_count": 17,
   "metadata": {},
   "outputs": [],
   "source": [
    "# types.head()"
   ]
  },
  {
   "cell_type": "code",
   "execution_count": 18,
   "metadata": {},
   "outputs": [],
   "source": [
    "tickets['type'] = types"
   ]
  },
  {
   "cell_type": "code",
   "execution_count": 19,
   "metadata": {},
   "outputs": [],
   "source": [
    "## transform from list to str\n",
    "tickets['type'] = tickets['type'].apply(', '.join)"
   ]
  },
  {
   "cell_type": "code",
   "execution_count": 20,
   "metadata": {},
   "outputs": [],
   "source": [
    "# tickets.head()"
   ]
  },
  {
   "cell_type": "markdown",
   "metadata": {},
   "source": [
    "#### prix et duree moyen selon le train, le bus et le covoit"
   ]
  },
  {
   "cell_type": "code",
   "execution_count": 21,
   "metadata": {
    "scrolled": true
   },
   "outputs": [
    {
     "data": {
      "text/html": [
       "<div>\n",
       "<style scoped>\n",
       "    .dataframe tbody tr th:only-of-type {\n",
       "        vertical-align: middle;\n",
       "    }\n",
       "\n",
       "    .dataframe tbody tr th {\n",
       "        vertical-align: top;\n",
       "    }\n",
       "\n",
       "    .dataframe thead th {\n",
       "        text-align: right;\n",
       "    }\n",
       "</style>\n",
       "<table border=\"1\" class=\"dataframe\">\n",
       "  <thead>\n",
       "    <tr style=\"text-align: right;\">\n",
       "      <th></th>\n",
       "      <th>duree</th>\n",
       "      <th>price_in_cents</th>\n",
       "    </tr>\n",
       "    <tr>\n",
       "      <th>type</th>\n",
       "      <th></th>\n",
       "      <th></th>\n",
       "    </tr>\n",
       "  </thead>\n",
       "  <tbody>\n",
       "    <tr>\n",
       "      <th>bus</th>\n",
       "      <td>15:37:59.769531</td>\n",
       "      <td>3652.448036</td>\n",
       "    </tr>\n",
       "    <tr>\n",
       "      <th>carpooling</th>\n",
       "      <td>04:06:38.330156</td>\n",
       "      <td>2742.171907</td>\n",
       "    </tr>\n",
       "    <tr>\n",
       "      <th>train</th>\n",
       "      <td>07:20:03.435997</td>\n",
       "      <td>8506.634793</td>\n",
       "    </tr>\n",
       "  </tbody>\n",
       "</table>\n",
       "</div>"
      ],
      "text/plain": [
       "                     duree  price_in_cents\n",
       "type                                      \n",
       "bus        15:37:59.769531     3652.448036\n",
       "carpooling 04:06:38.330156     2742.171907\n",
       "train      07:20:03.435997     8506.634793"
      ]
     },
     "execution_count": 21,
     "metadata": {},
     "output_type": "execute_result"
    }
   ],
   "source": [
    "typs_grouped = tickets[['type', 'duree', 'price_in_cents']].groupby(['type']).mean(numeric_only=False)\n",
    "typs_grouped"
   ]
  },
  {
   "cell_type": "markdown",
   "metadata": {},
   "source": [
    "## j'ai pas arrivé a extraire les distances."
   ]
  }
 ],
 "metadata": {
  "celltoolbar": "Format de la Cellule Texte Brut",
  "kernelspec": {
   "display_name": "Python 3",
   "language": "python",
   "name": "python3"
  },
  "language_info": {
   "codemirror_mode": {
    "name": "ipython",
    "version": 3
   },
   "file_extension": ".py",
   "mimetype": "text/x-python",
   "name": "python",
   "nbconvert_exporter": "python",
   "pygments_lexer": "ipython3",
   "version": "3.8.3"
  }
 },
 "nbformat": 4,
 "nbformat_minor": 4
}
